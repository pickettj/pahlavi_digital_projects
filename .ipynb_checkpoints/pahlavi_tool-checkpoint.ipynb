{
 "cells": [
  {
   "cell_type": "code",
   "execution_count": 13,
   "metadata": {},
   "outputs": [],
   "source": [
    "import os, re\n",
    "\n",
    "import pandas as pd\n",
    "from pandas import DataFrame, Series"
   ]
  },
  {
   "cell_type": "code",
   "execution_count": 6,
   "metadata": {},
   "outputs": [],
   "source": [
    "#set home directory path\n",
    "hdir = os.path.expanduser('~')\n",
    "\n",
    "#pahlavi corpus directory\n",
    "pah_path = hdir + \"/Dropbox/Active_Directories/Digital_Humanities/Corpora/pahlavi_corpus/\"\n",
    "\n",
    "#pickle path\n",
    "pickle_path = hdir + \"/Dropbox/Active_Directories/Digital_Humanities/Corpora/pickled_tokenized_cleaned_corpora\""
   ]
  },
  {
   "cell_type": "code",
   "execution_count": 7,
   "metadata": {},
   "outputs": [],
   "source": [
    "df_pahcorp = pd.read_csv (os.path.join(pickle_path,r'pahlavi_corpus.csv'))"
   ]
  },
  {
   "cell_type": "code",
   "execution_count": 8,
   "metadata": {},
   "outputs": [
    {
     "data": {
      "text/html": [
       "<div>\n",
       "<style scoped>\n",
       "    .dataframe tbody tr th:only-of-type {\n",
       "        vertical-align: middle;\n",
       "    }\n",
       "\n",
       "    .dataframe tbody tr th {\n",
       "        vertical-align: top;\n",
       "    }\n",
       "\n",
       "    .dataframe thead th {\n",
       "        text-align: right;\n",
       "    }\n",
       "</style>\n",
       "<table border=\"1\" class=\"dataframe\">\n",
       "  <thead>\n",
       "    <tr style=\"text-align: right;\">\n",
       "      <th></th>\n",
       "      <th>title</th>\n",
       "      <th>line</th>\n",
       "      <th>index</th>\n",
       "      <th>token</th>\n",
       "    </tr>\n",
       "  </thead>\n",
       "  <tbody>\n",
       "    <tr>\n",
       "      <th>50914</th>\n",
       "      <td>Dēnkard10</td>\n",
       "      <td>3.139.3</td>\n",
       "      <td>7</td>\n",
       "      <td>hu</td>\n",
       "    </tr>\n",
       "    <tr>\n",
       "      <th>377873</th>\n",
       "      <td>BUNDAHIŠN</td>\n",
       "      <td>28.10</td>\n",
       "      <td>13</td>\n",
       "      <td>pāk</td>\n",
       "    </tr>\n",
       "    <tr>\n",
       "      <th>139052</th>\n",
       "      <td>PT 02</td>\n",
       "      <td>8</td>\n",
       "      <td>11</td>\n",
       "      <td>dō-sad</td>\n",
       "    </tr>\n",
       "    <tr>\n",
       "      <th>263225</th>\n",
       "      <td>Mādayān ī hazār dādestān II</td>\n",
       "      <td>8.5</td>\n",
       "      <td>17</td>\n",
       "      <td>abārīg</td>\n",
       "    </tr>\n",
       "    <tr>\n",
       "      <th>340424</th>\n",
       "      <td>Zand_i_Fragard_i_Jud</td>\n",
       "      <td>PV.18.73</td>\n",
       "      <td>13</td>\n",
       "      <td>&lt;w’y&gt;</td>\n",
       "    </tr>\n",
       "  </tbody>\n",
       "</table>\n",
       "</div>"
      ],
      "text/plain": [
       "                                    title      line  index   token\n",
       "50914                          Dēnkard10   3.139.3      7      hu\n",
       "377873                         BUNDAHIŠN     28.10     13     pāk\n",
       "139052                              PT 02         8     11  dō-sad\n",
       "263225  Mādayān ī hazār dādestān II       8.5     17  abārīg\n",
       "340424               Zand_i_Fragard_i_Jud  PV.18.73     13   <w’y>"
      ]
     },
     "execution_count": 8,
     "metadata": {},
     "output_type": "execute_result"
    }
   ],
   "source": [
    "df_pahcorp.sample(5)"
   ]
  },
  {
   "cell_type": "markdown",
   "metadata": {},
   "source": [
    "----\n",
    "\n",
    "## Key Word in Context"
   ]
  },
  {
   "cell_type": "code",
   "execution_count": 25,
   "metadata": {},
   "outputs": [],
   "source": [
    "def index_kwic (term):\n",
    "    \n",
    "    \"\"\"This function returns a dataframe filtered by the search term.\"\"\"\n",
    "    \n",
    "    result = df_pahcorp[df_pahcorp['token'].str.match(term)]\n",
    "    return result\n",
    "    \n",
    "    # str.match; the str part is telling match how to behave; .match is a method specific to pandas\n",
    "    \n",
    "    \n",
    "# add regex functionality: "
   ]
  },
  {
   "cell_type": "code",
   "execution_count": 26,
   "metadata": {},
   "outputs": [],
   "source": [
    "def kwic_pah (term):\n",
    "    \n",
    "    for i, item in index_kwic(term).iterrows():\n",
    "        \n",
    "        title = item[\"title\"]\n",
    "        line = item[\"line\"]\n",
    "        \n",
    "        filtered = df_pahcorp[(df_pahcorp['title']==title)&(df_pahcorp['line']==line)]\n",
    "        # equivalent syntax: df_pahcorp.query(f'title == \"{title}\" and line == {line}')\n",
    "        \n",
    "        filtered = filtered.sort_values(\"index\")\n",
    "        # probably already sorted, but better to be on the safe side\n",
    "                \n",
    "        text = \" \".join(filtered[\"token\"])\n",
    "        \n",
    "        print(f'{title}: {line}\\n{text}\\n')\n",
    "        \n",
    "        # task: figure out how to color code results; termcolor package, has to be installed\n",
    "\n",
    "\n",
    "\n",
    "        \n",
    "# iterrows(): research what this does exactly, has something to do with dataframes being composed of series\n",
    "        "
   ]
  },
  {
   "cell_type": "code",
   "execution_count": null,
   "metadata": {},
   "outputs": [],
   "source": [
    "#df_pahcorp[\"token\"] == \"afsōn\""
   ]
  },
  {
   "cell_type": "code",
   "execution_count": 27,
   "metadata": {},
   "outputs": [
    {
     "name": "stdout",
     "output_type": "stream",
     "text": [
      "Pahlavi Rivāyat: 16b.10\n",
      "u-š guft kū abr hāmōn wārān andar abāyēd +wirōzag kunēd ēk abāg did kōxšišn kārezār andar miyazd kunēnd mardōm ī wad [Tc44] andar miyazd rasēnd ud hamē ka ēdōn bawēd miyazd bē ō dēwān mad bawēd ∵\n",
      "\n",
      "Pahlavi Rivāyat: 31c.7\n",
      "tō kē Zarduxšt hē ka tangīh bawād ka frāxīh az-im dēn guftan abāz ma est čē ēn zamīg ka hāmōn bē bawēd āb ka andar zrēy bē estēd ud sēn-murw ka andar wēšag āšyān kunēd ud harw kē pad gēhān [Tc90] ka abāz [D59] āxēzēd ud xwaršēd ka pad ān rāh rawēd harw kē pad gēhān ka a-wināh bē bawēd Ahrimen ud dēwān ka abesīhēd ud hamāg yazišn ud niyāyišn ī Ohrmazd ud amahrspandān pad dēn bawēd\n",
      "\n",
      "Dādestān ī dēnīg II: 69.2\n",
      "pāsox ∵ ēd kū gyāg-iz kū kōf paydāgīg nēst wizandag būdan <’y’k'> pad-iz dēn rōšn paydāg kū pēš-iz az rōyišn ī kōfān ka būm hamāg hāmōn būd gēhān čandēnīdārīh hām-gēhān wizandag būd\n",
      "\n",
      "Dādestān ī dēnīg II: 90.2\n",
      "pāsox ēd kū āsmān ast gerd ud frāx buland u-š andarrōn hāmōn frāx-xāyagīhā ∵ u-š gētīy-ēw rōšnīh sag ī hamāg sagān saxttom hu-čihrtom u-š mēnōy a-parwand amāwand ud <’ylp> čiyōn winnerd ud tagīg artēštārān\n",
      "\n",
      "PT 01: 29\n",
      "19 ānōh pad hudōs ī razūr ud *marw ī Zarduštān kē nē kōf ī borz ud nē *war zofr bē pad ān dašt ī hāmōn aspān nēw [203] paygān wizārišn .\n",
      "\n",
      "Šāyist nē šāyist: 2.10\n",
      "ka abr hāmōn [K20_53r/103] būd estēd az xānag bē burdan pādixšā ud ka pad rāh wārān kunēd/gīrēd abāz ō xānag āwurdan nē pādixšā ud ka pēš dahlīz-ēw ast ānōh bē ē nihēd ān kē-š dahlīz xwēš ka bīm pādixšā ka andar nē hilēd u-š pas bē ō gyāg barišn ka [M51_79/153] āb ēw nēzag-bālāy andar estēd pas-iz bē nihēd bē āwarēd o\n",
      "\n"
     ]
    }
   ],
   "source": [
    "kwic_pah (\"hāmōn\")"
   ]
  },
  {
   "cell_type": "code",
   "execution_count": null,
   "metadata": {},
   "outputs": [],
   "source": [
    "# Conditional frequency\n",
    "\n",
    "# two problems: (1) find where the words are; (2) find what words are next to a particular location\n",
    "\n",
    "# collect on i-1 i+1; counter is a function in the collections module that takes a list and turns it into a frequency dictionary\n",
    "## A column is technically a series, which can work like a list."
   ]
  },
  {
   "cell_type": "code",
   "execution_count": null,
   "metadata": {},
   "outputs": [],
   "source": [
    "indexed = list(index_kwic('hāmōn').index)\n",
    "\n",
    "cd_index = []\n",
    "length = len(indexed)\n",
    "for i in range(length):\n",
    "    cd_index.append((indexed[i]-1, indexed[i], indexed[i]+1))\n",
    "    \n",
    "    \n",
    "    \n",
    "# now need to use this (and counter module?) to count frequency of the terms immediately before and after, i.e. positions 0 and 2 in the tuple"
   ]
  },
  {
   "cell_type": "code",
   "execution_count": null,
   "metadata": {},
   "outputs": [],
   "source": [
    "cd_index"
   ]
  },
  {
   "cell_type": "code",
   "execution_count": null,
   "metadata": {},
   "outputs": [],
   "source": [
    "for x in cd_index:\n",
    "    print (cd_index[x][1])"
   ]
  },
  {
   "cell_type": "code",
   "execution_count": null,
   "metadata": {},
   "outputs": [],
   "source": [
    "cd_index[1][1]"
   ]
  },
  {
   "cell_type": "code",
   "execution_count": null,
   "metadata": {},
   "outputs": [],
   "source": [
    "df_pahcorp.iloc[240938]"
   ]
  },
  {
   "cell_type": "markdown",
   "metadata": {},
   "source": [
    "## Frequency"
   ]
  },
  {
   "cell_type": "code",
   "execution_count": 11,
   "metadata": {},
   "outputs": [],
   "source": [
    "freq_dic = pd.value_counts(df_pahcorp.token).to_frame().reset_index()"
   ]
  },
  {
   "cell_type": "code",
   "execution_count": 12,
   "metadata": {},
   "outputs": [
    {
     "data": {
      "text/html": [
       "<div>\n",
       "<style scoped>\n",
       "    .dataframe tbody tr th:only-of-type {\n",
       "        vertical-align: middle;\n",
       "    }\n",
       "\n",
       "    .dataframe tbody tr th {\n",
       "        vertical-align: top;\n",
       "    }\n",
       "\n",
       "    .dataframe thead th {\n",
       "        text-align: right;\n",
       "    }\n",
       "</style>\n",
       "<table border=\"1\" class=\"dataframe\">\n",
       "  <thead>\n",
       "    <tr style=\"text-align: right;\">\n",
       "      <th></th>\n",
       "      <th>index</th>\n",
       "      <th>token</th>\n",
       "    </tr>\n",
       "  </thead>\n",
       "  <tbody>\n",
       "    <tr>\n",
       "      <th>3633</th>\n",
       "      <td>čahār-pāyān</td>\n",
       "      <td>9</td>\n",
       "    </tr>\n",
       "    <tr>\n",
       "      <th>33534</th>\n",
       "      <td>abuxšišnīh</td>\n",
       "      <td>1</td>\n",
       "    </tr>\n",
       "    <tr>\n",
       "      <th>642</th>\n",
       "      <td>mayānag</td>\n",
       "      <td>84</td>\n",
       "    </tr>\n",
       "    <tr>\n",
       "      <th>20672</th>\n",
       "      <td>zamestānān</td>\n",
       "      <td>1</td>\n",
       "    </tr>\n",
       "    <tr>\n",
       "      <th>43164</th>\n",
       "      <td>tarsišnīg</td>\n",
       "      <td>1</td>\n",
       "    </tr>\n",
       "  </tbody>\n",
       "</table>\n",
       "</div>"
      ],
      "text/plain": [
       "             index  token\n",
       "3633   čahār-pāyān      9\n",
       "33534   abuxšišnīh      1\n",
       "642        mayānag     84\n",
       "20672   zamestānān      1\n",
       "43164    tarsišnīg      1"
      ]
     },
     "execution_count": 12,
     "metadata": {},
     "output_type": "execute_result"
    }
   ],
   "source": [
    "freq_dic.sample(5)"
   ]
  },
  {
   "cell_type": "code",
   "execution_count": 21,
   "metadata": {},
   "outputs": [],
   "source": [
    "search_term = re.compile(r\"p..z\")"
   ]
  },
  {
   "cell_type": "code",
   "execution_count": 23,
   "metadata": {},
   "outputs": [
    {
     "data": {
      "text/html": [
       "<div>\n",
       "<style scoped>\n",
       "    .dataframe tbody tr th:only-of-type {\n",
       "        vertical-align: middle;\n",
       "    }\n",
       "\n",
       "    .dataframe tbody tr th {\n",
       "        vertical-align: top;\n",
       "    }\n",
       "\n",
       "    .dataframe thead th {\n",
       "        text-align: right;\n",
       "    }\n",
       "</style>\n",
       "<table border=\"1\" class=\"dataframe\">\n",
       "  <thead>\n",
       "    <tr style=\"text-align: right;\">\n",
       "      <th></th>\n",
       "      <th>index</th>\n",
       "      <th>token</th>\n",
       "    </tr>\n",
       "  </thead>\n",
       "  <tbody>\n",
       "    <tr>\n",
       "      <th>3513</th>\n",
       "      <td>pānzdah</td>\n",
       "      <td>9</td>\n",
       "    </tr>\n",
       "    <tr>\n",
       "      <th>4854</th>\n",
       "      <td>pazzāmišn</td>\n",
       "      <td>6</td>\n",
       "    </tr>\n",
       "    <tr>\n",
       "      <th>6110</th>\n",
       "      <td>parzīn</td>\n",
       "      <td>4</td>\n",
       "    </tr>\n",
       "    <tr>\n",
       "      <th>7620</th>\n",
       "      <td>pazzāmēnd</td>\n",
       "      <td>3</td>\n",
       "    </tr>\n",
       "    <tr>\n",
       "      <th>7971</th>\n",
       "      <td>panzdah-sālagīh</td>\n",
       "      <td>3</td>\n",
       "    </tr>\n",
       "  </tbody>\n",
       "</table>\n",
       "</div>"
      ],
      "text/plain": [
       "                index  token\n",
       "3513          pānzdah      9\n",
       "4854        pazzāmišn      6\n",
       "6110           parzīn      4\n",
       "7620        pazzāmēnd      3\n",
       "7971  panzdah-sālagīh      3"
      ]
     },
     "execution_count": 23,
     "metadata": {},
     "output_type": "execute_result"
    }
   ],
   "source": [
    "query_mask = freq_dic[\"index\"].str.contains(search_term, na=False)\n",
    "query = freq_dic[query_mask]\n",
    "query.head()\n",
    "\n",
    "# turn into a function, just return top hits"
   ]
  },
  {
   "cell_type": "code",
   "execution_count": null,
   "metadata": {},
   "outputs": [],
   "source": []
  }
 ],
 "metadata": {
  "kernelspec": {
   "display_name": "Python 3",
   "language": "python",
   "name": "python3"
  },
  "language_info": {
   "codemirror_mode": {
    "name": "ipython",
    "version": 3
   },
   "file_extension": ".py",
   "mimetype": "text/x-python",
   "name": "python",
   "nbconvert_exporter": "python",
   "pygments_lexer": "ipython3",
   "version": "3.7.0"
  }
 },
 "nbformat": 4,
 "nbformat_minor": 2
}
