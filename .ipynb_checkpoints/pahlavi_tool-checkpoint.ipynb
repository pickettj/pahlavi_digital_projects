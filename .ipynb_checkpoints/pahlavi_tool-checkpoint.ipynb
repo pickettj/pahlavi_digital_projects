{
 "cells": [
  {
   "cell_type": "code",
   "execution_count": 1,
   "metadata": {},
   "outputs": [],
   "source": [
    "import os\n",
    "\n",
    "import pandas as pd\n",
    "from pandas import DataFrame, Series"
   ]
  },
  {
   "cell_type": "code",
   "execution_count": 2,
   "metadata": {},
   "outputs": [],
   "source": [
    "#set home directory path\n",
    "hdir = os.path.expanduser('~')\n",
    "\n",
    "#pahlavi corpus directory\n",
    "pah_path = hdir + \"/Dropbox/Active_Directories/Digital_Humanities/Corpora/pahlavi_corpus/\"\n",
    "\n",
    "#pickle path\n",
    "pickle_path = hdir + \"/Dropbox/Active_Directories/Digital_Humanities/Corpora/pickled_tokenized_cleaned_corpora\""
   ]
  },
  {
   "cell_type": "code",
   "execution_count": 3,
   "metadata": {},
   "outputs": [],
   "source": [
    "df_pahcorp = pd.read_csv (os.path.join(pickle_path,r'pahlavi_corpus.csv'))"
   ]
  },
  {
   "cell_type": "code",
   "execution_count": 4,
   "metadata": {},
   "outputs": [
    {
     "data": {
      "text/html": [
       "<div>\n",
       "<style scoped>\n",
       "    .dataframe tbody tr th:only-of-type {\n",
       "        vertical-align: middle;\n",
       "    }\n",
       "\n",
       "    .dataframe tbody tr th {\n",
       "        vertical-align: top;\n",
       "    }\n",
       "\n",
       "    .dataframe thead th {\n",
       "        text-align: right;\n",
       "    }\n",
       "</style>\n",
       "<table border=\"1\" class=\"dataframe\">\n",
       "  <thead>\n",
       "    <tr style=\"text-align: right;\">\n",
       "      <th></th>\n",
       "      <th>title</th>\n",
       "      <th>line</th>\n",
       "      <th>index</th>\n",
       "      <th>token</th>\n",
       "    </tr>\n",
       "  </thead>\n",
       "  <tbody>\n",
       "    <tr>\n",
       "      <th>0</th>\n",
       "      <td>PT36</td>\n",
       "      <td>1</td>\n",
       "      <td>0</td>\n",
       "      <td>PT36.</td>\n",
       "    </tr>\n",
       "    <tr>\n",
       "      <th>1</th>\n",
       "      <td>PT36</td>\n",
       "      <td>1</td>\n",
       "      <td>1</td>\n",
       "      <td>Abar</td>\n",
       "    </tr>\n",
       "    <tr>\n",
       "      <th>2</th>\n",
       "      <td>PT36</td>\n",
       "      <td>1</td>\n",
       "      <td>2</td>\n",
       "      <td>Madan</td>\n",
       "    </tr>\n",
       "    <tr>\n",
       "      <th>3</th>\n",
       "      <td>PT36</td>\n",
       "      <td>1</td>\n",
       "      <td>3</td>\n",
       "      <td>ī</td>\n",
       "    </tr>\n",
       "    <tr>\n",
       "      <th>4</th>\n",
       "      <td>PT36</td>\n",
       "      <td>1</td>\n",
       "      <td>4</td>\n",
       "      <td>Šā-Wahrām</td>\n",
       "    </tr>\n",
       "  </tbody>\n",
       "</table>\n",
       "</div>"
      ],
      "text/plain": [
       "  title line  index      token\n",
       "0  PT36    1      0      PT36.\n",
       "1  PT36    1      1       Abar\n",
       "2  PT36    1      2      Madan\n",
       "3  PT36    1      3          ī\n",
       "4  PT36    1      4  Šā-Wahrām"
      ]
     },
     "execution_count": 4,
     "metadata": {},
     "output_type": "execute_result"
    }
   ],
   "source": [
    "df_pahcorp.head()"
   ]
  },
  {
   "cell_type": "markdown",
   "metadata": {},
   "source": [
    "----\n",
    "\n",
    "## Key Word in Context"
   ]
  },
  {
   "cell_type": "code",
   "execution_count": 5,
   "metadata": {},
   "outputs": [],
   "source": [
    "def index_kwic (term):\n",
    "    \n",
    "    \"\"\"This function returns a dataframe filtered by the search term.\"\"\"\n",
    "    \n",
    "    result = df_pahcorp[df_pahcorp['token'].str.match(term)]\n",
    "    return result\n",
    "    \n",
    "    # str.match; the str part is telling match how to behave; .match is a method specific to pandas\n",
    "    \n",
    "    \n",
    "# add regex functionality: "
   ]
  },
  {
   "cell_type": "code",
   "execution_count": 6,
   "metadata": {},
   "outputs": [],
   "source": [
    "def kwic_pah (term):\n",
    "    \n",
    "    for i, item in index_kwic(term).iterrows():\n",
    "        \n",
    "        title = item[\"title\"]\n",
    "        line = item[\"line\"]\n",
    "        \n",
    "        filtered = df_pahcorp[(df_pahcorp['title']==title)&(df_pahcorp['line']==line)]\n",
    "        # equivalent syntax: df_pahcorp.query(f'title == \"{title}\" and line == {line}')\n",
    "        \n",
    "        filtered = filtered.sort_values(\"index\")\n",
    "        # probably already sorted, but better to be on the safe side\n",
    "                \n",
    "        text = \" \".join(filtered[\"token\"])\n",
    "        \n",
    "        print(f'{title}: {line}\\n{text}\\n')\n",
    "        \n",
    "        # task: figure out how to color code results; termcolor package, has to be installed\n",
    "\n",
    "\n",
    "\n",
    "        \n",
    "# iterrows(): research what this does exactly, has something to do with dataframes being composed of series\n",
    "        "
   ]
  },
  {
   "cell_type": "code",
   "execution_count": 7,
   "metadata": {},
   "outputs": [],
   "source": [
    "#df_pahcorp[\"token\"] == \"afsōn\""
   ]
  },
  {
   "cell_type": "code",
   "execution_count": 11,
   "metadata": {},
   "outputs": [
    {
     "name": "stdout",
     "output_type": "stream",
     "text": [
      "Pahlavi Rivāyat: 16b.10\n",
      "u-š guft kū abr hāmōn wārān andar abāyēd +wirōzag kunēd ēk abāg did kōxšišn kārezār andar miyazd kunēnd mardōm ī wad [Tc44] andar miyazd rasēnd ud hamē ka ēdōn bawēd miyazd bē ō dēwān mad bawēd ∵\n",
      "\n",
      "Pahlavi Rivāyat: 31c.7\n",
      "tō kē Zarduxšt hē ka tangīh bawād ka frāxīh az-im dēn guftan abāz ma est čē ēn zamīg ka hāmōn bē bawēd āb ka andar zrēy bē estēd ud sēn-murw ka andar wēšag āšyān kunēd ud harw kē pad gēhān [Tc90] ka abāz [D59] āxēzēd ud xwaršēd ka pad ān rāh rawēd harw kē pad gēhān ka a-wināh bē bawēd Ahrimen ud dēwān ka abesīhēd ud hamāg yazišn ud niyāyišn ī Ohrmazd ud amahrspandān pad dēn bawēd\n",
      "\n",
      "Dādestān ī dēnīg II: 69.2\n",
      "pāsox ∵ ēd kū gyāg-iz kū kōf paydāgīg nēst wizandag būdan <’y’k'> pad-iz dēn rōšn paydāg kū pēš-iz az rōyišn ī kōfān ka būm hamāg hāmōn būd gēhān čandēnīdārīh hām-gēhān wizandag būd\n",
      "\n",
      "Dādestān ī dēnīg II: 90.2\n",
      "pāsox ēd kū āsmān ast gerd ud frāx buland u-š andarrōn hāmōn frāx-xāyagīhā ∵ u-š gētīy-ēw rōšnīh sag ī hamāg sagān saxttom hu-čihrtom u-š mēnōy a-parwand amāwand ud <’ylp> čiyōn winnerd ud tagīg artēštārān\n",
      "\n",
      "PT 01: 29\n",
      "19 ānōh pad hudōs ī razūr ud *marw ī Zarduštān kē nē kōf ī borz ud nē *war zofr bē pad ān dašt ī hāmōn aspān nēw [203] paygān wizārišn .\n",
      "\n",
      "Šāyist nē šāyist: 2.10\n",
      "ka abr hāmōn [K20_53r/103] būd estēd az xānag bē burdan pādixšā ud ka pad rāh wārān kunēd/gīrēd abāz ō xānag āwurdan nē pādixšā ud ka pēš dahlīz-ēw ast ānōh bē ē nihēd ān kē-š dahlīz xwēš ka bīm pādixšā ka andar nē hilēd u-š pas bē ō gyāg barišn ka [M51_79/153] āb ēw nēzag-bālāy andar estēd pas-iz bē nihēd bē āwarēd o\n",
      "\n"
     ]
    }
   ],
   "source": [
    "kwic_pah (\"hāmōn\")"
   ]
  },
  {
   "cell_type": "code",
   "execution_count": 29,
   "metadata": {},
   "outputs": [],
   "source": [
    "# Conditional frequency\n",
    "\n",
    "# two problems: (1) find where the words are; (2) find what words are next to a particular location\n",
    "\n",
    "# collect on i-1 i+1; counter is a function in the collections module that takes a list and turns it into a frequency dictionary\n",
    "## A column is technically a series, which can work like a list."
   ]
  },
  {
   "cell_type": "code",
   "execution_count": 37,
   "metadata": {},
   "outputs": [],
   "source": [
    "indexed = list(index_kwic('hāmōn').index)\n",
    "\n",
    "cd_index = []\n",
    "length = len(indexed)\n",
    "for i in range(length):\n",
    "    cd_index.append((indexed[i]-1, indexed[i], indexed[i]+1))\n",
    "    \n",
    "    \n",
    "    \n",
    "# now need to use this (and counter module?) to count frequency of the terms immediately before and after, i.e. positions 0 and 2 in the tuple"
   ]
  },
  {
   "cell_type": "code",
   "execution_count": 38,
   "metadata": {},
   "outputs": [
    {
     "data": {
      "text/plain": [
       "[(233989, 233990, 233991),\n",
       " (240938, 240939, 240940),\n",
       " (430296, 430297, 430298),\n",
       " (435883, 435884, 435885),\n",
       " (510282, 510283, 510284),\n",
       " (529918, 529919, 529920)]"
      ]
     },
     "execution_count": 38,
     "metadata": {},
     "output_type": "execute_result"
    }
   ],
   "source": [
    "cd_index"
   ]
  },
  {
   "cell_type": "code",
   "execution_count": 44,
   "metadata": {},
   "outputs": [
    {
     "ename": "TypeError",
     "evalue": "list indices must be integers or slices, not tuple",
     "output_type": "error",
     "traceback": [
      "\u001b[0;31m---------------------------------------------------------------------------\u001b[0m",
      "\u001b[0;31mTypeError\u001b[0m                                 Traceback (most recent call last)",
      "\u001b[0;32m<ipython-input-44-d22ca32b9083>\u001b[0m in \u001b[0;36m<module>\u001b[0;34m()\u001b[0m\n\u001b[1;32m      1\u001b[0m \u001b[0;32mfor\u001b[0m \u001b[0mx\u001b[0m \u001b[0;32min\u001b[0m \u001b[0mcd_index\u001b[0m\u001b[0;34m:\u001b[0m\u001b[0;34m\u001b[0m\u001b[0m\n\u001b[0;32m----> 2\u001b[0;31m     \u001b[0mcd_index\u001b[0m\u001b[0;34m[\u001b[0m\u001b[0mx\u001b[0m\u001b[0;34m]\u001b[0m\u001b[0;34m[\u001b[0m\u001b[0;36m1\u001b[0m\u001b[0;34m]\u001b[0m\u001b[0;34m\u001b[0m\u001b[0m\n\u001b[0m",
      "\u001b[0;31mTypeError\u001b[0m: list indices must be integers or slices, not tuple"
     ]
    }
   ],
   "source": [
    "for x in cd_index:\n",
    "    print (cd_index[x][1])"
   ]
  },
  {
   "cell_type": "code",
   "execution_count": 43,
   "metadata": {},
   "outputs": [
    {
     "data": {
      "text/plain": [
       "240939"
      ]
     },
     "execution_count": 43,
     "metadata": {},
     "output_type": "execute_result"
    }
   ],
   "source": [
    "cd_index[1][1]"
   ]
  },
  {
   "cell_type": "code",
   "execution_count": 49,
   "metadata": {},
   "outputs": [
    {
     "data": {
      "text/plain": [
       "title    Pahlavi Rivāyat\n",
       "line                31c.7\n",
       "index                  18\n",
       "token                  ka\n",
       "Name: 240938, dtype: object"
      ]
     },
     "execution_count": 49,
     "metadata": {},
     "output_type": "execute_result"
    }
   ],
   "source": [
    "df_pahcorp.iloc[240938]"
   ]
  },
  {
   "cell_type": "code",
   "execution_count": null,
   "metadata": {},
   "outputs": [],
   "source": []
  }
 ],
 "metadata": {
  "kernelspec": {
   "display_name": "Python 3",
   "language": "python",
   "name": "python3"
  },
  "language_info": {
   "codemirror_mode": {
    "name": "ipython",
    "version": 3
   },
   "file_extension": ".py",
   "mimetype": "text/x-python",
   "name": "python",
   "nbconvert_exporter": "python",
   "pygments_lexer": "ipython3",
   "version": "3.7.0"
  }
 },
 "nbformat": 4,
 "nbformat_minor": 2
}
