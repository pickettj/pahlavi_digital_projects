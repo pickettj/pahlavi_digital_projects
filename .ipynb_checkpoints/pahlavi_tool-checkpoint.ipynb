{
 "cells": [
  {
   "cell_type": "code",
   "execution_count": 3,
   "metadata": {},
   "outputs": [],
   "source": [
    "import os, re\n",
    "\n",
    "import pandas as pd\n",
    "from pandas import DataFrame, Series"
   ]
  },
  {
   "cell_type": "code",
   "execution_count": 4,
   "metadata": {},
   "outputs": [],
   "source": [
    "#set home directory path\n",
    "hdir = os.path.expanduser('~')\n",
    "\n",
    "#pahlavi corpus directory\n",
    "pah_path = hdir + \"/Dropbox/Active_Directories/Digital_Humanities/Corpora/pahlavi_corpus/\"\n",
    "\n",
    "#pickle path\n",
    "pickle_path = hdir + \"/Dropbox/Active_Directories/Digital_Humanities/Corpora/pickled_tokenized_cleaned_corpora\""
   ]
  },
  {
   "cell_type": "code",
   "execution_count": 5,
   "metadata": {},
   "outputs": [],
   "source": [
    "df_pahcorp = pd.read_csv (os.path.join(pickle_path,r'pahlavi_corpus.csv'))"
   ]
  },
  {
   "cell_type": "code",
   "execution_count": 21,
   "metadata": {},
   "outputs": [
    {
     "data": {
      "text/html": [
       "<div>\n",
       "<style scoped>\n",
       "    .dataframe tbody tr th:only-of-type {\n",
       "        vertical-align: middle;\n",
       "    }\n",
       "\n",
       "    .dataframe tbody tr th {\n",
       "        vertical-align: top;\n",
       "    }\n",
       "\n",
       "    .dataframe thead th {\n",
       "        text-align: right;\n",
       "    }\n",
       "</style>\n",
       "<table border=\"1\" class=\"dataframe\">\n",
       "  <thead>\n",
       "    <tr style=\"text-align: right;\">\n",
       "      <th></th>\n",
       "      <th>title</th>\n",
       "      <th>line</th>\n",
       "      <th>index</th>\n",
       "      <th>token</th>\n",
       "    </tr>\n",
       "  </thead>\n",
       "  <tbody>\n",
       "    <tr>\n",
       "      <th>319335</th>\n",
       "      <td>PT 04</td>\n",
       "      <td>110</td>\n",
       "      <td>18</td>\n",
       "      <td>hazār</td>\n",
       "    </tr>\n",
       "    <tr>\n",
       "      <th>43765</th>\n",
       "      <td>Dēnkard10</td>\n",
       "      <td>3.112.8</td>\n",
       "      <td>16</td>\n",
       "      <td>abzār</td>\n",
       "    </tr>\n",
       "    <tr>\n",
       "      <th>53381</th>\n",
       "      <td>Dēnkard10</td>\n",
       "      <td>3.154.4</td>\n",
       "      <td>6</td>\n",
       "      <td>ayāsag</td>\n",
       "    </tr>\n",
       "    <tr>\n",
       "      <th>198776</th>\n",
       "      <td>Wizirgerd ī Dēnīg</td>\n",
       "      <td>11.5</td>\n",
       "      <td>7</td>\n",
       "      <td>ud</td>\n",
       "    </tr>\n",
       "    <tr>\n",
       "      <th>376762</th>\n",
       "      <td>BUNDAHIŠN</td>\n",
       "      <td>27.98</td>\n",
       "      <td>3</td>\n",
       "      <td>kār</td>\n",
       "    </tr>\n",
       "  </tbody>\n",
       "</table>\n",
       "</div>"
      ],
      "text/plain": [
       "                       title     line  index   token\n",
       "319335                 PT 04      110     18   hazār\n",
       "43765             Dēnkard10  3.112.8     16   abzār\n",
       "53381             Dēnkard10  3.154.4      6  ayāsag\n",
       "198776  Wizirgerd ī Dēnīg     11.5      7      ud\n",
       "376762            BUNDAHIŠN    27.98      3     kār"
      ]
     },
     "execution_count": 21,
     "metadata": {},
     "output_type": "execute_result"
    }
   ],
   "source": [
    "df_pahcorp.sample(5)"
   ]
  },
  {
   "cell_type": "code",
   "execution_count": 33,
   "metadata": {},
   "outputs": [
    {
     "data": {
      "text/plain": [
       "title                              token_next\n",
       "ARDĀ WIRĀZ                       wāz           1\n",
       "BUNDAHIŠN                         100           1\n",
       "                                   sardag        1\n",
       "                                   srūw          1\n",
       "                                   sāl           1\n",
       "Dādestān ī Mēnōy Xrad         sāl           1\n",
       "Dēnkard 1                         (?)           1\n",
       "                                   mard          1\n",
       "Dēnkard 3                         tā            1\n",
       "                                   ēk-iz-ēw      1\n",
       "Dēnkard 6                         gām           1\n",
       "Dēnkard 8                         būd           1\n",
       "Kār                               ārāst         1\n",
       "Mādayān ī hazār dādestān     dinār         1\n",
       "                                   dādestān      1\n",
       "Mādayān ī hazār dādestān II  dādestān      1\n",
       "PT 02                              ud            1\n",
       "PT 04                              drahm         1\n",
       "                                   kanīzag       1\n",
       "PT27                               asb           1\n",
       "                                   kamar         1\n",
       "                                   mard          1\n",
       "                                   ud            1\n",
       "PT28                               dēw           1\n",
       "PT31                               anōš          1\n",
       "                                   anōš-ayād     1\n",
       "Pursišnīhā II                   puštag        2\n",
       "                                   gōspand       1\n",
       "                                   magas         1\n",
       "                                   mār           1\n",
       "                                   mōr           1\n",
       "                                   yazišn        1\n",
       "Wizirgerd ī Dēnīg               ud            7\n",
       "                                   anōš          1\n",
       "                                   anōš-ayād     1\n",
       "                                   drahm         1\n",
       "                                   kū            1\n",
       "                                   ēk            1\n",
       "Name: token_next, dtype: int64"
      ]
     },
     "execution_count": 33,
     "metadata": {},
     "output_type": "execute_result"
    }
   ],
   "source": [
    "tok = 'hazār'\n",
    "sel = df_pahcorp[df_pahcorp['token']==tok].copy()\n",
    "sel['index_next'] = sel['index'] + 1\n",
    "sel = sel.join(\n",
    "    df_pahcorp.set_index(['title', 'line', 'index'])['token'].rename('token_next'),\n",
    "    on=['title', 'line', 'index_next']\n",
    ")\n",
    "sel.groupby('title')['token_next'].value_counts()\n",
    "# simpler: sel['token_next'].value_counts()\n"
   ]
  },
  {
   "cell_type": "markdown",
   "metadata": {},
   "source": [
    "----\n",
    "\n",
    "## Key Word in Context"
   ]
  },
  {
   "cell_type": "code",
   "execution_count": 7,
   "metadata": {},
   "outputs": [],
   "source": [
    "def index_kwic (term):\n",
    "    \n",
    "    \"\"\"This function returns a dataframe filtered by the search term.\"\"\"\n",
    "    \n",
    "    result = df_pahcorp[df_pahcorp['token'].str.match(term)]\n",
    "    return result\n",
    "    \n",
    "    # str.match; the str part is telling match how to behave; .match is a method specific to pandas\n",
    "    \n",
    "    \n",
    "# add regex functionality: "
   ]
  },
  {
   "cell_type": "code",
   "execution_count": 8,
   "metadata": {},
   "outputs": [],
   "source": [
    "def kwic_pah (term):\n",
    "    \n",
    "    for i, item in index_kwic(term).iterrows():\n",
    "        \n",
    "        title = item[\"title\"]\n",
    "        line = item[\"line\"]\n",
    "        \n",
    "        filtered = df_pahcorp[(df_pahcorp['title']==title)&(df_pahcorp['line']==line)]\n",
    "        # equivalent syntax: df_pahcorp.query(f'title == \"{title}\" and line == {line}')\n",
    "        \n",
    "        filtered = filtered.sort_values(\"index\")\n",
    "        # probably already sorted, but better to be on the safe side\n",
    "                \n",
    "        text = \" \".join(filtered[\"token\"])\n",
    "        \n",
    "        print(f'{title}: {line}\\n{text}\\n')\n",
    "        \n",
    "        # task: figure out how to color code results; termcolor package, has to be installed\n",
    "\n",
    "\n",
    "\n",
    "        \n",
    "# iterrows(): research what this does exactly, has something to do with dataframes being composed of series\n",
    "        "
   ]
  },
  {
   "cell_type": "code",
   "execution_count": 9,
   "metadata": {},
   "outputs": [],
   "source": [
    "#df_pahcorp[\"token\"] == \"afsōn\""
   ]
  },
  {
   "cell_type": "code",
   "execution_count": 37,
   "metadata": {},
   "outputs": [],
   "source": [
    "#kwic_pah (\"hām.*$\")"
   ]
  },
  {
   "cell_type": "code",
   "execution_count": 11,
   "metadata": {},
   "outputs": [],
   "source": [
    "# Conditional frequency\n",
    "\n",
    "# two problems: (1) find where the words are; (2) find what words are next to a particular location\n",
    "\n",
    "# collect on i-1 i+1; counter is a function in the collections module that takes a list and turns it into a frequency dictionary\n",
    "## A column is technically a series, which can work like a list."
   ]
  },
  {
   "cell_type": "code",
   "execution_count": 12,
   "metadata": {},
   "outputs": [],
   "source": [
    "indexed = list(index_kwic('hāmōn').index)\n",
    "\n",
    "cd_index = []\n",
    "length = len(indexed)\n",
    "for i in range(length):\n",
    "    cd_index.append((indexed[i]-1, indexed[i], indexed[i]+1))\n",
    "    \n",
    "    \n",
    "    \n",
    "# now need to use this (and counter module?) to count frequency of the terms immediately before and after, i.e. positions 0 and 2 in the tuple"
   ]
  },
  {
   "cell_type": "code",
   "execution_count": 13,
   "metadata": {},
   "outputs": [
    {
     "data": {
      "text/plain": [
       "[(233989, 233990, 233991),\n",
       " (240938, 240939, 240940),\n",
       " (430296, 430297, 430298),\n",
       " (435883, 435884, 435885),\n",
       " (510282, 510283, 510284),\n",
       " (529918, 529919, 529920)]"
      ]
     },
     "execution_count": 13,
     "metadata": {},
     "output_type": "execute_result"
    }
   ],
   "source": [
    "cd_index"
   ]
  },
  {
   "cell_type": "code",
   "execution_count": 14,
   "metadata": {},
   "outputs": [],
   "source": [
    "#for x in cd_index:\n",
    "#    print (cd_index[x][1])"
   ]
  },
  {
   "cell_type": "code",
   "execution_count": 15,
   "metadata": {},
   "outputs": [
    {
     "data": {
      "text/plain": [
       "240939"
      ]
     },
     "execution_count": 15,
     "metadata": {},
     "output_type": "execute_result"
    }
   ],
   "source": [
    "cd_index[1][1]"
   ]
  },
  {
   "cell_type": "code",
   "execution_count": 16,
   "metadata": {},
   "outputs": [
    {
     "data": {
      "text/plain": [
       "title    Pahlavi Rivāyat\n",
       "line                31c.7\n",
       "index                  18\n",
       "token                  ka\n",
       "Name: 240938, dtype: object"
      ]
     },
     "execution_count": 16,
     "metadata": {},
     "output_type": "execute_result"
    }
   ],
   "source": [
    "df_pahcorp.iloc[240938]"
   ]
  },
  {
   "cell_type": "markdown",
   "metadata": {},
   "source": [
    "## Frequency"
   ]
  },
  {
   "cell_type": "code",
   "execution_count": 17,
   "metadata": {},
   "outputs": [],
   "source": [
    "freq_dic = pd.value_counts(df_pahcorp.token).to_frame().reset_index()"
   ]
  },
  {
   "cell_type": "code",
   "execution_count": 18,
   "metadata": {},
   "outputs": [
    {
     "data": {
      "text/html": [
       "<div>\n",
       "<style scoped>\n",
       "    .dataframe tbody tr th:only-of-type {\n",
       "        vertical-align: middle;\n",
       "    }\n",
       "\n",
       "    .dataframe tbody tr th {\n",
       "        vertical-align: top;\n",
       "    }\n",
       "\n",
       "    .dataframe thead th {\n",
       "        text-align: right;\n",
       "    }\n",
       "</style>\n",
       "<table border=\"1\" class=\"dataframe\">\n",
       "  <thead>\n",
       "    <tr style=\"text-align: right;\">\n",
       "      <th></th>\n",
       "      <th>index</th>\n",
       "      <th>token</th>\n",
       "    </tr>\n",
       "  </thead>\n",
       "  <tbody>\n",
       "    <tr>\n",
       "      <th>41966</th>\n",
       "      <td>yezī</td>\n",
       "      <td>1</td>\n",
       "    </tr>\n",
       "    <tr>\n",
       "      <th>12933</th>\n",
       "      <td>zanīhist</td>\n",
       "      <td>2</td>\n",
       "    </tr>\n",
       "    <tr>\n",
       "      <th>9685</th>\n",
       "      <td>weh-gōwišnīh</td>\n",
       "      <td>2</td>\n",
       "    </tr>\n",
       "    <tr>\n",
       "      <th>11635</th>\n",
       "      <td>dahēd}</td>\n",
       "      <td>2</td>\n",
       "    </tr>\n",
       "    <tr>\n",
       "      <th>11392</th>\n",
       "      <td>gandīh</td>\n",
       "      <td>2</td>\n",
       "    </tr>\n",
       "  </tbody>\n",
       "</table>\n",
       "</div>"
      ],
      "text/plain": [
       "              index  token\n",
       "41966          yezī      1\n",
       "12933      zanīhist      2\n",
       "9685   weh-gōwišnīh      2\n",
       "11635        dahēd}      2\n",
       "11392        gandīh      2"
      ]
     },
     "execution_count": 18,
     "metadata": {},
     "output_type": "execute_result"
    }
   ],
   "source": [
    "freq_dic.sample(5)"
   ]
  },
  {
   "cell_type": "code",
   "execution_count": 19,
   "metadata": {},
   "outputs": [],
   "source": [
    "search_term = re.compile(r\"sar.y\")"
   ]
  },
  {
   "cell_type": "code",
   "execution_count": 20,
   "metadata": {},
   "outputs": [
    {
     "data": {
      "text/html": [
       "<div>\n",
       "<style scoped>\n",
       "    .dataframe tbody tr th:only-of-type {\n",
       "        vertical-align: middle;\n",
       "    }\n",
       "\n",
       "    .dataframe tbody tr th {\n",
       "        vertical-align: top;\n",
       "    }\n",
       "\n",
       "    .dataframe thead th {\n",
       "        text-align: right;\n",
       "    }\n",
       "</style>\n",
       "<table border=\"1\" class=\"dataframe\">\n",
       "  <thead>\n",
       "    <tr style=\"text-align: right;\">\n",
       "      <th></th>\n",
       "      <th>index</th>\n",
       "      <th>token</th>\n",
       "    </tr>\n",
       "  </thead>\n",
       "  <tbody>\n",
       "    <tr>\n",
       "      <th>7461</th>\n",
       "      <td>čang-sarāy</td>\n",
       "      <td>3</td>\n",
       "    </tr>\n",
       "    <tr>\n",
       "      <th>10421</th>\n",
       "      <td>win-sarāy</td>\n",
       "      <td>2</td>\n",
       "    </tr>\n",
       "    <tr>\n",
       "      <th>15553</th>\n",
       "      <td>nāy-sarāy</td>\n",
       "      <td>1</td>\n",
       "    </tr>\n",
       "    <tr>\n",
       "      <th>30487</th>\n",
       "      <td>(sarāyspar-wāzīg</td>\n",
       "      <td>1</td>\n",
       "    </tr>\n",
       "    <tr>\n",
       "      <th>31068</th>\n",
       "      <td>sarāy</td>\n",
       "      <td>1</td>\n",
       "    </tr>\n",
       "  </tbody>\n",
       "</table>\n",
       "</div>"
      ],
      "text/plain": [
       "                  index  token\n",
       "7461         čang-sarāy      3\n",
       "10421         win-sarāy      2\n",
       "15553         nāy-sarāy      1\n",
       "30487  (sarāyspar-wāzīg      1\n",
       "31068             sarāy      1"
      ]
     },
     "execution_count": 20,
     "metadata": {},
     "output_type": "execute_result"
    }
   ],
   "source": [
    "query_mask = freq_dic[\"index\"].str.contains(search_term, na=False)\n",
    "query = freq_dic[query_mask]\n",
    "query.head()\n",
    "\n",
    "# turn into a function, just return top hits"
   ]
  },
  {
   "cell_type": "code",
   "execution_count": null,
   "metadata": {},
   "outputs": [],
   "source": []
  }
 ],
 "metadata": {
  "kernelspec": {
   "display_name": "Python 3",
   "language": "python",
   "name": "python3"
  },
  "language_info": {
   "codemirror_mode": {
    "name": "ipython",
    "version": 3
   },
   "file_extension": ".py",
   "mimetype": "text/x-python",
   "name": "python",
   "nbconvert_exporter": "python",
   "pygments_lexer": "ipython3",
   "version": "3.7.0"
  }
 },
 "nbformat": 4,
 "nbformat_minor": 2
}
