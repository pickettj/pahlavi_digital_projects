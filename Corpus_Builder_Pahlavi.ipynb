{
 "cells": [
  {
   "cell_type": "markdown",
   "metadata": {},
   "source": [
    "# Pahlavi Corpus Builder"
   ]
  },
  {
   "cell_type": "markdown",
   "metadata": {},
   "source": [
    "Links:\n",
    "- [extracting MS Word data](https://towardsdatascience.com/how-to-extract-data-from-ms-word-documents-using-python-ed3fbb48c122)\n",
    "- [navigating MS Word XML data](https://virantha.com/2013/08/16/reading-and-writing-microsoft-word-docx-files-with-python/)"
   ]
  },
  {
   "cell_type": "code",
   "execution_count": 1,
   "metadata": {},
   "outputs": [],
   "source": [
    "import os, zipfile, re, glob\n",
    "from bs4 import BeautifulSoup"
   ]
  },
  {
   "cell_type": "code",
   "execution_count": 2,
   "metadata": {},
   "outputs": [],
   "source": [
    "#set home directory path\n",
    "hdir = os.path.expanduser('~')\n",
    "\n",
    "#pahlavi corpus directory\n",
    "pah_path = hdir + \"/Box/Notes/Digital_Humanities/Corpora/pahlavi_corpus/\""
   ]
  },
  {
   "cell_type": "markdown",
   "metadata": {},
   "source": [
    "Glob the corpus"
   ]
  },
  {
   "cell_type": "code",
   "execution_count": 3,
   "metadata": {},
   "outputs": [],
   "source": [
    "pah_files = glob.glob(pah_path + r'/*.docx')\n",
    "\n",
    "pah_xml_corpus = {}\n",
    "for longname in pah_files:\n",
    "    document = zipfile.ZipFile(longname)\n",
    "    txt = zipfile.ZipFile.read(document, 'word/document.xml', pwd=None)\n",
    "    start = os.path.basename(longname)\n",
    "    short = os.path.splitext(start)\n",
    "    pah_xml_corpus[short[0]] = txt"
   ]
  },
  {
   "cell_type": "markdown",
   "metadata": {},
   "source": [
    "Assemble simple corpus divided by MS Word paragraph breaks"
   ]
  },
  {
   "cell_type": "code",
   "execution_count": 4,
   "metadata": {},
   "outputs": [],
   "source": [
    "pahlavi_corpus = {}\n",
    "for work in pah_xml_corpus:\n",
    "    tree = BeautifulSoup(pah_xml_corpus[work])\n",
    "    paras = tree.find_all(\"w:p\")\n",
    "    document = {}\n",
    "    for i in range(len(paras)):\n",
    "        if len(paras[i].get_text()) > 0:\n",
    "            document[i] = paras[i].get_text()\n",
    "    pahlavi_corpus[work] = document"
   ]
  },
  {
   "cell_type": "code",
   "execution_count": 14,
   "metadata": {},
   "outputs": [
    {
     "data": {
      "text/plain": [
       "'5.9.6nē padīrēnd nē kerdan kōšišn ī abāg dēwān wattarān ud rāyēnīdan paywand warzīdan ī gēhān tāšišnīh pad abārīg frārōnīh čiyōn hangerdīg anayārīh nām '"
      ]
     },
     "execution_count": 14,
     "metadata": {},
     "output_type": "execute_result"
    }
   ],
   "source": [
    "#pah_xml_corpus['Dēnkard 1']\n",
    "\n",
    "pahlavi_corpus[\"Dēnkard 5\"][100]"
   ]
  },
  {
   "cell_type": "markdown",
   "metadata": {},
   "source": [
    "Extracting the Line Numbers"
   ]
  },
  {
   "cell_type": "code",
   "execution_count": 41,
   "metadata": {},
   "outputs": [],
   "source": [
    "pahlavi_corpus_lines = {}\n",
    "for work in pahlavi_corpus:\n",
    "    segment = {}\n",
    "    for para in pahlavi_corpus[work]:\n",
    "        num_pattern = re.compile(r\"^[0-9]{0,3}\\.[0-9]{0,3}\\.?[0-9]{0,3}\")\n",
    "        num_match = re.match(num_pattern, pahlavi_corpus[work][para])\n",
    "        if num_match:\n",
    "            num = num_match.group(0)\n",
    "        else:\n",
    "            num = \"--\"\n",
    "        line_pattern = re.compile(r\"[^(0-9|\\.)]*\")\n",
    "        line_match = re.match(line_pattern, pahlavi_corpus[work][para])\n",
    "        if line_match:\n",
    "            line = line_match.group(0)\n",
    "        else:\n",
    "            line = \"-----\"\n",
    "        segment[para] = [num, line]\n",
    "    pahlavi_corpus_lines[work] = segment\n",
    "    "
   ]
  },
  {
   "cell_type": "code",
   "execution_count": 27,
   "metadata": {},
   "outputs": [
    {
     "name": "stdout",
     "output_type": "stream",
     "text": [
      "5.23.5\n"
     ]
    }
   ],
   "source": [
    "test_string = \"5.23.5ud čē rāy pēš nē āmad\"\n",
    "num_pattern = re.compile(r\"^[0-9]{0,3}\\.[0-9]{0,3}\\.?[0-9]{0,3}\")\n",
    "result = re.match(num_pattern, test_string)\n",
    "print(result.group(0))"
   ]
  },
  {
   "cell_type": "code",
   "execution_count": 43,
   "metadata": {},
   "outputs": [
    {
     "data": {
      "text/plain": [
       "['5.9.9', '']"
      ]
     },
     "execution_count": 43,
     "metadata": {},
     "output_type": "execute_result"
    }
   ],
   "source": [
    "pahlavi_corpus_lines[\"Dēnkard 5\"][103]\n",
    "\n"
   ]
  },
  {
   "cell_type": "code",
   "execution_count": 69,
   "metadata": {},
   "outputs": [
    {
     "ename": "AttributeError",
     "evalue": "'NoneType' object has no attribute 'group'",
     "output_type": "error",
     "traceback": [
      "\u001b[0;31m---------------------------------------------------------------------------\u001b[0m",
      "\u001b[0;31mAttributeError\u001b[0m                            Traceback (most recent call last)",
      "\u001b[0;32m<ipython-input-69-b4027ee80059>\u001b[0m in \u001b[0;36m<module>\u001b[0;34m()\u001b[0m\n\u001b[1;32m      1\u001b[0m \u001b[0mnum_pattern\u001b[0m \u001b[0;34m=\u001b[0m \u001b[0mre\u001b[0m\u001b[0;34m.\u001b[0m\u001b[0mcompile\u001b[0m\u001b[0;34m(\u001b[0m\u001b[0;34mr\"hanger\"\u001b[0m\u001b[0;34m,\u001b[0m \u001b[0mre\u001b[0m\u001b[0;34m.\u001b[0m\u001b[0mUNICODE\u001b[0m\u001b[0;34m)\u001b[0m\u001b[0;34m\u001b[0m\u001b[0m\n\u001b[0;32m----> 2\u001b[0;31m \u001b[0mnum\u001b[0m \u001b[0;34m=\u001b[0m \u001b[0mre\u001b[0m\u001b[0;34m.\u001b[0m\u001b[0mmatch\u001b[0m\u001b[0;34m(\u001b[0m\u001b[0mnum_pattern\u001b[0m\u001b[0;34m,\u001b[0m \u001b[0mpahlavi_corpus\u001b[0m\u001b[0;34m[\u001b[0m\u001b[0;34m\"Dēnkard 5\"\u001b[0m\u001b[0;34m]\u001b[0m\u001b[0;34m[\u001b[0m\u001b[0;36m100\u001b[0m\u001b[0;34m]\u001b[0m\u001b[0;34m)\u001b[0m\u001b[0;34m.\u001b[0m\u001b[0mgroup\u001b[0m\u001b[0;34m(\u001b[0m\u001b[0;36m0\u001b[0m\u001b[0;34m)\u001b[0m\u001b[0;34m\u001b[0m\u001b[0m\n\u001b[0m\u001b[1;32m      3\u001b[0m \u001b[0mnum\u001b[0m\u001b[0;34m\u001b[0m\u001b[0m\n",
      "\u001b[0;31mAttributeError\u001b[0m: 'NoneType' object has no attribute 'group'"
     ]
    }
   ],
   "source": [
    "num_pattern = re.compile(r\"hanger\", re.UNICODE)\n",
    "num = re.match(num_pattern, pahlavi_corpus[\"Dēnkard 5\"][100]).group(0)\n",
    "num"
   ]
  },
  {
   "cell_type": "code",
   "execution_count": null,
   "metadata": {},
   "outputs": [],
   "source": []
  },
  {
   "cell_type": "markdown",
   "metadata": {},
   "source": [
    "Pickling for export"
   ]
  },
  {
   "cell_type": "code",
   "execution_count": null,
   "metadata": {},
   "outputs": [],
   "source": []
  }
 ],
 "metadata": {
  "kernelspec": {
   "display_name": "Python 3",
   "language": "python",
   "name": "python3"
  },
  "language_info": {
   "codemirror_mode": {
    "name": "ipython",
    "version": 3
   },
   "file_extension": ".py",
   "mimetype": "text/x-python",
   "name": "python",
   "nbconvert_exporter": "python",
   "pygments_lexer": "ipython3",
   "version": "3.7.0"
  }
 },
 "nbformat": 4,
 "nbformat_minor": 2
}
