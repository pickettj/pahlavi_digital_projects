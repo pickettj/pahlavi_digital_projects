{
 "cells": [
  {
   "cell_type": "markdown",
   "metadata": {},
   "source": [
    "# Pahlavi Corpus Builder"
   ]
  },
  {
   "cell_type": "markdown",
   "metadata": {},
   "source": [
    "Links:\n",
    "- [extracting MS Word data](https://towardsdatascience.com/how-to-extract-data-from-ms-word-documents-using-python-ed3fbb48c122)\n",
    "- [navigating MS Word XML data](https://virantha.com/2013/08/16/reading-and-writing-microsoft-word-docx-files-with-python/)"
   ]
  },
  {
   "cell_type": "code",
   "execution_count": 47,
   "metadata": {},
   "outputs": [],
   "source": [
    "import os, zipfile, re, glob, nltk, pickle\n",
    "import pandas as pd\n",
    "from bs4 import BeautifulSoup\n",
    "from collections import defaultdict\n",
    "\n",
    "# explanation of default dict: https://www.geeksforgeeks.org/defaultdict-in-python/"
   ]
  },
  {
   "cell_type": "code",
   "execution_count": 2,
   "metadata": {},
   "outputs": [],
   "source": [
    "#set home directory path\n",
    "hdir = os.path.expanduser('~')\n",
    "\n",
    "#pahlavi corpus directory\n",
    "pah_path = hdir + \"/Box/Notes/Digital_Humanities/Corpora/pahlavi_corpus/\"\n",
    "\n",
    "#pickle path\n",
    "pickle_path = hdir + \"/Box/Notes/Digital_Humanities/Corpora/pickled_tokenized_cleaned_corpora\""
   ]
  },
  {
   "cell_type": "markdown",
   "metadata": {},
   "source": [
    "### Glob the corpus"
   ]
  },
  {
   "cell_type": "code",
   "execution_count": 3,
   "metadata": {},
   "outputs": [],
   "source": [
    "pah_files = glob.glob(pah_path + r'/*.docx')\n",
    "\n",
    "pah_xml_corpus = {}\n",
    "for longname in pah_files:\n",
    "    document = zipfile.ZipFile(longname)\n",
    "    txt = zipfile.ZipFile.read(document, 'word/document.xml', pwd=None)\n",
    "    start = os.path.basename(longname)\n",
    "    short = os.path.splitext(start)\n",
    "    pah_xml_corpus[short[0]] = txt"
   ]
  },
  {
   "cell_type": "markdown",
   "metadata": {},
   "source": [
    "### Assemble simple corpus divided by MS Word paragraph breaks"
   ]
  },
  {
   "cell_type": "code",
   "execution_count": 4,
   "metadata": {},
   "outputs": [],
   "source": [
    "pahlavi_corpus = {}\n",
    "for work in pah_xml_corpus:\n",
    "    tree = BeautifulSoup(pah_xml_corpus[work])\n",
    "    paras = tree.find_all(\"w:p\")\n",
    "    document = {}\n",
    "    for i in range(len(paras)):\n",
    "        if len(paras[i].get_text()) > 0:\n",
    "            document[i] = paras[i].get_text()\n",
    "    pahlavi_corpus[work] = document"
   ]
  },
  {
   "cell_type": "code",
   "execution_count": 11,
   "metadata": {},
   "outputs": [
    {
     "data": {
      "text/plain": [
       "{0: 'nĪrang ī āb',\n",
       " 1: 'Also WD.89[ML / 4050 / 303v]',\n",
       " 2: '[ML / 4050 / 303v]',\n",
       " 3: '[TUL 11263_294r]',\n",
       " 4: '[DZ 4010_ 292r]',\n",
       " 5: '[Nik 4040_ 294v]',\n",
       " 6: ' Nīrang ī āb ud pādyāb yaštan',\n",
       " 7: 'fradom kār ēn kū ōy kū āb ud  pādyāb // kunēd naxust xwēš-tan pad baršnūm bē abāyēd šustan ',\n",
       " 8: 'ud ka-š // 3 3 \\\\\\\\ 3 šabag dāšt bawēd āb pad karbās  ī pad-pādyāb pālūdan ud pad  ǰāmag ī // \\\\\\\\ pad-pādyāb andar kunišn ',\n",
       " 9: 'gōmēz  az gāw ī gušn ka nē ān ī wādag  // šāyēd \\\\\\\\ bē kunišn ',\n",
       " 10: 'ud andar ǰāmag ī pad-pādy<āb  xūbīhā andar kunišn ',\n",
       " 11: 'u-š sar  // \\\\\\\\ bē nihumbišn ud az xrafstar ud abārīg  rēmanīh pad pahrēz dārišn ',\n",
       " 12: 'ud aw>ēšān kē āb  // \\\\\\\\ ud g[ōmēz yazēnd yaštan tan p<ad baršnūm bē šōyišn ',\n",
       " 13: 'ka 3 3 3 > šabag xub [dāšt // ēg-išān 30 <gām frāz kunišn ',\n",
       " 14: 'yašt ī 3 paywa \\\\\\\\ nd abāg kas ī h[u-xēmtar ī awest<wārtar ī // rāst>-Abestāg \\\\\\\\ tar (narm-Abestāg-tar) xūb-n[ērangtar ud dēn-āgāhtar [ML_304r] bē < kunišn // ',\n",
       " 15: 'ud ān kas kē zōdīh k>unēd šab<[īg kustīg nōg ud pad-pādyāb < ōy-iz kē rāspīg // ud srōš>-barišnīh kun\\\\\\\\ēd hamgōnag [ǰāmag ī nōg kustī<g nōg abāyēd ∵ ',\n",
       " 16: 'ōy tan kē Abe>stāg- // warmtar \\\\\\\\ [TUL_294v] zōdīh kunēd ōy ayār ',\n",
       " 17: '< u-šā]n ēk abāyēd kū-š > ǰud-dēw-dād // warm \\\\\\\\ ud ēk bār pad zō]dīh xwē<š yašt estēd nōg sāzi>šn',\n",
       " 18: 'pād\\\\\\\\yābīh // ān čim rāy] mādagwar<īhā abāyēd ka yazišn sā>xt āb ud \\\\\\\\ gōmēz kē bē] // āwarišn az kustag ī dašn zōd az sar ī barsom ta]\\\\\\\\y ī ādišt andarg // bē nihišn ',\n",
       " 19: 'ōy kē zōdīh kāmēd kerdan dast pad-pādyāb bē kunišn ēk bār // gōmēz ud āb bē nigerišn',\n",
       " 20: 'ud hamāg \\\\\\\\ gyāgīhā pēš gōmēz pas āb nigerišn // ',\n",
       " 21: 'hamāg gyāgīhā ān ī wāzag kē ō pēš nibēsam bē gōwišn bē estišn // gōmēz ud āb bē nigerišn \\\\\\\\ ',\n",
       " 22: 'pas Abestāg bē rāyēnišn ',\n",
       " 23: 'didīgar bār pad gāh // ī ādarwaxšān ān \\\\\\\\ [Nik_ 295r] gy<āg kū humāiiehe . pairi . jaθnō . // > b<ē estišn ',\n",
       " 24: 'u-š \\\\\\\\ war an>dar hamāg sāzišn kunišn aṣ̌əm .> bē gōwišn ',\n",
       " 25: 'didīgar bār hamāg xūb // \\\\\\\\ bē < nigerišn ',\n",
       " 26: 'u-š ātaxš-gāh šustan u>-š dast pad-pādyāb abāz kerd<an ∵ yaθā . // ahū . vairiiō . 2 andar > rāh ēd bē gōwišn ',\n",
       " 27: 'ō pas bars<om šawēd u-š tarsag // āhīhā bē e>stišn',\n",
       " 28: 'ud sidīgar bār sāzišn \\\\\\\\ gō<mēz ud āb xūb bē nigerišn u-š . fra // s>tuiiē . bē gōwišn ',\n",
       " 29: 'u-š \\\\\\\\ č<ahārom bār xūb bē nige>r<išn ',\n",
       " 30: 'bawēd kē > guft kū // pad Yatāhūwērō p<ad š́iiaōθnən]ąm .> 4-g<ānag pad ēk bār bē nigerišn // \\\\\\\\ ',\n",
       " 31: 'p<as Abestāg bē] rāyēnišn ',\n",
       " 32: 'ud > pad ńiuuaēδaiiemi . bun bē nigerišn ',\n",
       " 33: 'ud \\\\\\\\ [DZ_ 292r] p<as Abestā]g bē rāyēnišn',\n",
       " 34: 'ud > pad ān ī Ašemwohū [ML_304v] 3-(gānag pad) bun ī hōm<āst // b<ē nigerišn] ',\n",
       " 35: 'pas barəsm>ana . bun kunišn ',\n",
       " 36: 'bawēd kē 6 gyāg gōwēd] \\\\\\\\ 4 < kē azabar // nibišt ',\n",
       " 37: '2 kē (bē ō) pēš gōwēd 5-om pad ān ī wāz gīr]išn\\\\\\\\īh ī pad hōm<āst sar ',\n",
       " 38: 'ud > hamāg // [TUL_295r] xūb bē [nigerišn ∵ ',\n",
       " 39: 'pas pad bun ī fragard \\\\\\\\ wāzag ī pad bu<n ī ǰud-dēw-d>ād mraot̰ . bē // < gō[wišn > bē estišn ',\n",
       " 40: 'hamāg xūb bē nigerišn hamāg gyāg pēš gōmēz ud pas āb // [nigerišn ',\n",
       " 41: 'pas k<a \\\\\\\\ nihuftag estēd weh-iz bawēd tā yazišn sar ān ī g[yāg dārišn // pad \\\\\\\\ šāyist nē šāyist ',\n",
       " 42: 'hamāg wizend ī andar yazišn rasēd ham-čiyōn [yašt nōg \\\\\\\\ nābar u-š xšnūman // Srōš kunēd ā-šāyēd ',\n",
       " 43: 'u-š  ǰāmag 2 pad-pād<yāb> kē az ān ī āb   ud gōmēz pad-pādyab grift estēd andar aw-iš  // kunišn',\n",
       " 44: 'harw \\\\\\\\ gyāg kū andar yazišn ēd nigerišn abāyēd // ',\n",
       " 45: 'az ān gyāg ǰāmag kē āb ud gōmēz \\\\\\\\ pad-pādyāb andar andak-ēw pad dīdār ī zōd ōwōn kē // wēnēd ',\n",
       " 46: 'andar ān ī gōmēz gōmēz \\\\\\\\ [Nik_ 295v] andar ān ī āb āb rēzišn kū xw<ārtar bawēd ',\n",
       " 47: 'ka // yazišn xūbīh>ā f\\\\\\\\razāmīh abar āyēd ān āb ud < gōmēz yaštag ō gyāg ī  kū // xwēš-kā>rīh ast barēnd ',\n",
       " 48: 'ud pad karbās-ēw ī nōg ī pad-pādyāb  < kerd estēd ān ǰāmag > ī // āb ud gōmēz andar ast sar xūbīhā bastan < kū az gōmēz bērōn andar a>w-iš nē šawēd // \\\\\\\\ ',\n",
       " 49: '(pad ēč rāh ud) pad ēč tis sūdagīh nē kerdan čē-š < bun hamāg pādyābīh-ēw padiš // ast ∵ \\\\\\\\ ',\n",
       " 50: 'hamāg tis-iz nigerišnīg padiš ker[dan ',\n",
       " 51: 'M<ēdyō>māh ēn-iz guft kū // pad f\\\\\\\\ragard 9 10-om ī ǰud-d[ēw-dād < ān gyāg > kū Yatāhūwēryō 100-gānag \\\\\\\\ aṣ̌ēm . vohū . 100-// -gānag ',\n",
       " 52: 'a[st kū 300 sag ī pad pādyāb // bawēd \\\\\\\\ ',\n",
       " 53: 'pad harw Ašemwohū’ān ēk ',\n",
       " 54: 'ud pad h[arw yaθā . ahū . vairii\\\\\\\\ō . ēk // sag andar gōmēz āb [ML_305r] abaganēd ',\n",
       " 55: 'u-š baxšišn nē [āmār bē \\\\\\\\ agar ō gōmēz // wēš abganēd šāyēd ',\n",
       " 56: 'pad čāštag ī Abarg guf[t \\\\\\\\ sag ī nē abāyēd abganēd // ',\n",
       " 57: 'pad čāštag ī Mēdyōmāh abāyēd abganēd [pad amahrspandān yazdān kām bawād ∵ ',\n",
       " 58: '[TUL 11263_295v col.]'}"
      ]
     },
     "execution_count": 11,
     "metadata": {},
     "output_type": "execute_result"
    }
   ],
   "source": [
    "# Example:\n",
    "pahlavi_corpus[\"nĪrang ī āb\"]"
   ]
  },
  {
   "cell_type": "markdown",
   "metadata": {},
   "source": [
    "### Extracting the Line Numbers"
   ]
  },
  {
   "cell_type": "code",
   "execution_count": 5,
   "metadata": {},
   "outputs": [],
   "source": [
    "# currently does not work for works that lack line numbers, e.g. nĪrang ī āb\n",
    "\n",
    "pahlavi_corpus_lines = {}\n",
    "for work in pahlavi_corpus:\n",
    "    segment = {}\n",
    "    # reset the paragraph and line number for each work\n",
    "    prev_para = None\n",
    "    prev_num_match = None\n",
    "    for para in pahlavi_corpus[work]:\n",
    "        num_pattern = re.compile(r'^.*(\\.[0-9]{1,3}){1,3}')\n",
    "        num_match = re.match(num_pattern, pahlavi_corpus[work][para])\n",
    "        if num_match is not None:\n",
    "            num = num_match.group(0)\n",
    "            position = num_match.end()\n",
    "            line = pahlavi_corpus[work][para][position:]\n",
    "        elif prev_num_match is not None:\n",
    "            pahlavi_corpus[work][prev_para] += pahlavi_corpus[work][para]\n",
    "        else:\n",
    "            num = \"--\"\n",
    "            line = pahlavi_corpus[work][para]\n",
    "        \n",
    "        segment[num] = line\n",
    "        prev_num_match = num_match\n",
    "        prev_para = para\n",
    "        \n",
    "    pahlavi_corpus_lines[work] = segment\n",
    "    "
   ]
  },
  {
   "cell_type": "code",
   "execution_count": 30,
   "metadata": {},
   "outputs": [
    {
     "data": {
      "text/plain": [
       "{'--': '[TUL 11263_295v col.]', 'Also WD.89': ''}"
      ]
     },
     "execution_count": 30,
     "metadata": {},
     "output_type": "execute_result"
    }
   ],
   "source": [
    "#pahlavi_corpus_lines.keys()\n",
    "pahlavi_corpus_lines[\"nĪrang ī āb\"]"
   ]
  },
  {
   "cell_type": "markdown",
   "metadata": {},
   "source": [
    "### Flat Indexing"
   ]
  },
  {
   "cell_type": "code",
   "execution_count": 44,
   "metadata": {},
   "outputs": [],
   "source": [
    "# list of tuples\n",
    "\n",
    "#doc = pahlavi_corpus_lines[\"ARDĀ WIRĀZ\"]\n",
    "#sum([[(ln, pos, tok) for pos, tok in enumerate(line.split())] for ln, line in doc.items()], [])\n",
    "\n",
    "# any advantage to using nltk.word_tokenize() instead of split()?\n",
    "\n",
    "pahlavi_flat_corpus = []\n",
    "for work in pahlavi_corpus_lines:\n",
    "    doc = pahlavi_corpus_lines[work]\n",
    "    output = sum([[(work, ln, pos, tok) for pos, tok in enumerate(line.split())] for ln, line in doc.items()], [])\n",
    "    pahlavi_flat_corpus += output"
   ]
  },
  {
   "cell_type": "code",
   "execution_count": 46,
   "metadata": {},
   "outputs": [],
   "source": [
    "#pahlavi_flat_corpus"
   ]
  },
  {
   "cell_type": "markdown",
   "metadata": {},
   "source": [
    "### Pass to Dataframe"
   ]
  },
  {
   "cell_type": "code",
   "execution_count": 51,
   "metadata": {},
   "outputs": [],
   "source": [
    "# pass to dataframe: pd.DataFrame([(1,2,3), (2,3,4)], columns=['a', 'b', 'c'])\n",
    "\n",
    "#pd.DataFrame(pahlavi_flat_corpus, columns=['title', 'line', 'index', 'token'])\n",
    "pd.DataFrame(pahlavi_flat_corpus, columns=['title', 'line', 'index', 'token']).to_csv(os.path.join(pickle_path,r'pahlavi_corpus.csv'), index=False)"
   ]
  },
  {
   "cell_type": "code",
   "execution_count": null,
   "metadata": {},
   "outputs": [],
   "source": []
  }
 ],
 "metadata": {
  "kernelspec": {
   "display_name": "Python 3",
   "language": "python",
   "name": "python3"
  },
  "language_info": {
   "codemirror_mode": {
    "name": "ipython",
    "version": 3
   },
   "file_extension": ".py",
   "mimetype": "text/x-python",
   "name": "python",
   "nbconvert_exporter": "python",
   "pygments_lexer": "ipython3",
   "version": "3.7.0"
  }
 },
 "nbformat": 4,
 "nbformat_minor": 2
}
